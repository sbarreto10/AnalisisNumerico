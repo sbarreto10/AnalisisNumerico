{
  "nbformat": 4,
  "nbformat_minor": 0,
  "metadata": {
    "colab": {
      "provenance": [],
      "authorship_tag": "ABX9TyNbLAVHVwmxk5a4zN2ZuqMF",
      "include_colab_link": true
    },
    "kernelspec": {
      "name": "python3",
      "display_name": "Python 3"
    },
    "language_info": {
      "name": "python"
    }
  },
  "cells": [
    {
      "cell_type": "markdown",
      "metadata": {
        "id": "view-in-github",
        "colab_type": "text"
      },
      "source": [
        "<a href=\"https://colab.research.google.com/github/sbarreto10/AnalisisNumerico/blob/main/LaboNumerico/Ordenes_de_precision.ipynb\" target=\"_parent\"><img src=\"https://colab.research.google.com/assets/colab-badge.svg\" alt=\"Open In Colab\"/></a>"
      ]
    },
    {
      "cell_type": "markdown",
      "source": [
        "# ESTIMACIÓN DEL ORDEN DE PRECISIÓN DE DISTINTOS MÉTODOS NUMÉRICOS DE RESOLUCIÓN DE ECUACIONES DIFERENCIALES CON CONDICIONES INICIALES"
      ],
      "metadata": {
        "id": "Mc1CFEnemL8C"
      }
    },
    {
      "cell_type": "code",
      "source": [
        "import numpy as np\n",
        "import math"
      ],
      "metadata": {
        "id": "c0y_K5txwrp5"
      },
      "execution_count": null,
      "outputs": []
    },
    {
      "cell_type": "markdown",
      "source": [
        "# EL PROBLEMA ATACADO ES EL SIGUIENTE:\n",
        "## $\\frac{dy}{dt}=(1-2t)y$; $0<t<0.5$;\n",
        "## $y(0)=1$"
      ],
      "metadata": {
        "id": "1Ax-fUggnt-o"
      }
    },
    {
      "cell_type": "markdown",
      "source": [
        "### El \"ln(2)\" en las expresiones que estiman los ordenes de precisión proviene de los distintos h con los que se realizan las aproximaciones para un mismo método, que se van reduciendo de a mitades\n",
        "### $\\frac{h_{old}}{h_{new}} = 2$"
      ],
      "metadata": {
        "id": "c8mqYC7DkdeE"
      }
    },
    {
      "cell_type": "markdown",
      "source": [
        "# RK4"
      ],
      "metadata": {
        "id": "ZdpiHPszJ25E"
      }
    },
    {
      "cell_type": "code",
      "execution_count": null,
      "metadata": {
        "id": "n8RxUQwxtWaC"
      },
      "outputs": [],
      "source": [
        "def RK_k(u, t, h):\n",
        "  k1 = (1-2*t)*u\n",
        "  k2 = (1-2*(t+0.5*h))*(u+0.5*h*k1)\n",
        "  k3 = (1-2*(t+0.5*h))*(u+0.5*h*k2)\n",
        "  k4 = (1-2*(t+h))*(u+h*k3)\n",
        "  return k1, k2, k3, k4"
      ]
    },
    {
      "cell_type": "code",
      "source": [
        "u, t, h = 1, 0, 0.5\n",
        "U1 = [u]\n",
        "while t<0.5:\n",
        "  K = RK_k(u, t, h)\n",
        "  u = u + (1/6)*h*(K[0]+2*(K[1]+K[2])+K[3])\n",
        "  U1.append(u)\n",
        "  t += h\n",
        "\n",
        "u, t, h = 1, 0, 0.25\n",
        "U2 = [u]\n",
        "while t<0.5:\n",
        "  K = RK_k(u, t, h)\n",
        "  u = u + (1/6)*h*(K[0]+2*(K[1]+K[2])+K[3])\n",
        "  U2.append(u)\n",
        "  t += h\n",
        "\n",
        "u, t, h = 1, 0, 0.125\n",
        "U3 = [u]\n",
        "while t<0.5:\n",
        "  K = RK_k(u, t, h)\n",
        "  u = u + (1/6)*h*(K[0]+2*(K[1]+K[2])+K[3])\n",
        "  U3.append(u)\n",
        "  t += h"
      ],
      "metadata": {
        "id": "P0vn6zczvczm"
      },
      "execution_count": null,
      "outputs": []
    },
    {
      "cell_type": "code",
      "source": [
        "y = [math.e**(n-n**2) for n in np.arange(0,0.5+0.125,0.125)]\n",
        "e2=abs(U2[-1]-y[-1])\n",
        "e3=abs(U3[-1]-y[-1])\n",
        "print(\"ORDEN DE PRECISIÓN: ln(e[h=0.25]/e[0.125])/ln(2) = \"+str(np.log(e2/e3)/np.log(2))+\" ≈ \"+str(round(np.log(e2/e3)/np.log(2))))"
      ],
      "metadata": {
        "id": "7RQo-DY6_BiJ",
        "colab": {
          "base_uri": "https://localhost:8080/"
        },
        "outputId": "86aa31cc-8981-4cdc-ee0b-341edab91a37"
      },
      "execution_count": null,
      "outputs": [
        {
          "output_type": "stream",
          "name": "stdout",
          "text": [
            "ORDEN DE PRECISIÓN: ln(e[h=0.25]/e[0.125])/ln(2) = 4.389988558859887 ≈ 4\n"
          ]
        }
      ]
    },
    {
      "cell_type": "markdown",
      "source": [
        "# EULER PURAMENTE EXPLÍCITO"
      ],
      "metadata": {
        "id": "8I7N5eBW_hTH"
      }
    },
    {
      "cell_type": "code",
      "source": [
        "u, t, h = 1, 0, 0.5\n",
        "U4 = [u]\n",
        "while t<0.5:\n",
        "  u = round(u + h*((1-2*t)*u),D)\n",
        "  U4.append(u)\n",
        "  t += h\n",
        "\n",
        "u, t, h = 1, 0, 0.25\n",
        "U5 = [u]\n",
        "while t<0.5:\n",
        "  u = round(u + h*((1-2*t)*u),D)\n",
        "  U5.append(u)\n",
        "  t += h\n",
        "\n",
        "u, t, h = 1, 0, 0.125\n",
        "U6 = [u]\n",
        "while t<0.5:\n",
        "  u = round(u + h*((1-2*t)*u),D)\n",
        "  U6.append(u)\n",
        "  t += h"
      ],
      "metadata": {
        "id": "xUSQsy-z_f0R"
      },
      "execution_count": null,
      "outputs": []
    },
    {
      "cell_type": "code",
      "source": [
        "y = [math.e**(n-n**2) for n in np.arange(0,0.5+0.125,0.125)]\n",
        "e5=abs(U5[-1]-y[-1])\n",
        "e6=abs(U6[-1]-y[-1])\n",
        "print(\"ORDEN DE PRECISIÓN: ln(e[h=0.25]/e[0.125])/ln(2) = \"+str(np.log(e5/e6)/np.log(2))+\" ≈ \"+str(round(np.log(e5/e6)/np.log(2))))"
      ],
      "metadata": {
        "colab": {
          "base_uri": "https://localhost:8080/"
        },
        "id": "JaJiVMsUJK7x",
        "outputId": "db8ed809-6104-4f53-ce2a-d2e2196914aa"
      },
      "execution_count": null,
      "outputs": [
        {
          "output_type": "stream",
          "name": "stdout",
          "text": [
            "ORDEN DE PRECISIÓN: ln(e[h=0.25]/e[0.125])/ln(2) = 0.928821018689233 ≈ 1\n"
          ]
        }
      ]
    },
    {
      "cell_type": "markdown",
      "source": [
        "# EULER PURAMENTE IMPLÍCITO"
      ],
      "metadata": {
        "id": "ixt9q7XmKlGw"
      }
    },
    {
      "cell_type": "code",
      "source": [
        "u, t, h = 1, 0, 0.5\n",
        "U7 = [u]\n",
        "while t<0.5:\n",
        "  u = round(u/(1+h*(2*(t+h)-1)),D)\n",
        "  U7.append(u)\n",
        "  t += h\n",
        "\n",
        "u, t, h = 1, 0, 0.25\n",
        "U8 = [u]\n",
        "while t<0.5:\n",
        "  u = round(u/(1+h*(2*(t+h)-1)),D)\n",
        "  U8.append(u)\n",
        "  t += h\n",
        "\n",
        "u, t, h = 1, 0, 0.125\n",
        "U9 = [u]\n",
        "while t<0.5:\n",
        "  u = round(u/(1+h*(2*(t+h)-1)),D)\n",
        "  U9.append(u)\n",
        "  t += h"
      ],
      "metadata": {
        "id": "jxwCw5ICKxG0"
      },
      "execution_count": null,
      "outputs": []
    },
    {
      "cell_type": "code",
      "source": [
        "y = [math.e**(n-n**2) for n in np.arange(0,0.5+0.125,0.125)]\n",
        "e7=abs(U7[-1]-y[-1])\n",
        "e8=abs(U8[-1]-y[-1])\n",
        "print(\"ORDEN DE PRECISIÓN: ln(e[h=0.25]/e[0.125])/ln(2) = \"+str(np.log(e7/e8)/np.log(2))+\" ≈ \"+str(round(np.log(e7/e8)/np.log(2))))"
      ],
      "metadata": {
        "colab": {
          "base_uri": "https://localhost:8080/"
        },
        "id": "dFtpVtqNKzU2",
        "outputId": "c7c47060-7c39-4897-fc65-a6e6d023527e"
      },
      "execution_count": null,
      "outputs": [
        {
          "output_type": "stream",
          "name": "stdout",
          "text": [
            "ORDEN DE PRECISIÓN: ln(e[h=0.25]/e[0.125])/ln(2) = 1.0086041448566287 ≈ 1\n"
          ]
        }
      ]
    },
    {
      "cell_type": "markdown",
      "source": [
        "# CRANK NICOLOSON"
      ],
      "metadata": {
        "id": "c3kBzNKxPN2l"
      }
    },
    {
      "cell_type": "code",
      "source": [
        "u, t, h = 1, 0, 0.5\n",
        "U10 = [u]\n",
        "while t<0.5:\n",
        "  u = round((u*(1+0.5*h*(1-2*t)))/(1+0.5*h*(2*(t+h)-1)),D)\n",
        "  U10.append(u)\n",
        "  t += h\n",
        "\n",
        "u, t, h = 1, 0, 0.25\n",
        "U11 = [u]\n",
        "while t<0.5:\n",
        "  u = round((u*(1+0.5*h*(1-2*t)))/(1+0.5*h*(2*(t+h)-1)),D)\n",
        "  U11.append(u)\n",
        "  t += h\n",
        "\n",
        "u, t, h = 1, 0, 0.125\n",
        "U12 = [u]\n",
        "while t<0.5:\n",
        "  u = round((u*(1+0.5*h*(1-2*t)))/(1+0.5*h*(2*(t+h)-1)),D)\n",
        "  U12.append(u)\n",
        "  t += h"
      ],
      "metadata": {
        "id": "4HPRgorvPcPq"
      },
      "execution_count": null,
      "outputs": []
    },
    {
      "cell_type": "code",
      "source": [
        "y = [math.e**(n-n**2) for n in np.arange(0,0.5+0.125,0.125)]\n",
        "e11=abs(U11[-1]-y[-1])\n",
        "e12=abs(U12[-1]-y[-1])\n",
        "print(\"ORDEN DE PRECISIÓN: ln(e[h=0.25]/e[0.125])/ln(2) = \"+str(np.log(e11/e12)/np.log(2))+\" ≈ \"+str(round(np.log(e11/e12)/np.log(2))))"
      ],
      "metadata": {
        "colab": {
          "base_uri": "https://localhost:8080/"
        },
        "id": "NdYBVTM0QQ0w",
        "outputId": "11d9f212-61ea-40f6-b08f-4bb340a3b2f9"
      },
      "execution_count": null,
      "outputs": [
        {
          "output_type": "stream",
          "name": "stdout",
          "text": [
            "ORDEN DE PRECISIÓN: ln(e[h=0.25]/e[0.125])/ln(2) = 1.9797151007939355 ≈ 2\n"
          ]
        }
      ]
    }
  ]
}